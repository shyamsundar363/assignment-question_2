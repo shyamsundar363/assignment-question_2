{
 "cells": [
  {
   "cell_type": "markdown",
   "id": "89efbd7c",
   "metadata": {},
   "source": [
    "## 1) QUESTION\n"
   ]
  },
  {
   "cell_type": "code",
   "execution_count": 1,
   "id": "be6df3f1",
   "metadata": {},
   "outputs": [
    {
     "data": {
      "text/plain": [
       "20"
      ]
     },
     "execution_count": 1,
     "metadata": {},
     "output_type": "execute_result"
    }
   ],
   "source": [
    "def fun1(l):\n",
    "    sum=0\n",
    "    for i in l:\n",
    "        sum+=i\n",
    "    return sum\n",
    "l=(8,2,3,0,7)\n",
    "fun1(l)"
   ]
  },
  {
   "cell_type": "markdown",
   "id": "6148e54b",
   "metadata": {},
   "source": [
    "## 2) QUESTION"
   ]
  },
  {
   "cell_type": "code",
   "execution_count": 2,
   "id": "5c70fbc2",
   "metadata": {},
   "outputs": [
    {
     "data": {
      "text/plain": [
       "'dcba4321'"
      ]
     },
     "execution_count": 2,
     "metadata": {},
     "output_type": "execute_result"
    }
   ],
   "source": [
    "def fun2(string):\n",
    "    return string[::-1]\n",
    "string=\"1234abcd\"\n",
    "fun2(string)"
   ]
  },
  {
   "cell_type": "markdown",
   "id": "f14b360a",
   "metadata": {},
   "source": [
    "## 3) QUESTION"
   ]
  },
  {
   "cell_type": "code",
   "execution_count": 3,
   "id": "d2ddd3df",
   "metadata": {},
   "outputs": [
    {
     "name": "stdout",
     "output_type": "stream",
     "text": [
      "No. of Upper case characters :  3\n",
      "No. of lower case characters :  12\n"
     ]
    }
   ],
   "source": [
    "def fun3(string):\n",
    "    count_1=0\n",
    "    count_2=0\n",
    "    for char in string:\n",
    "        if char.isupper():\n",
    "            count_1+=1\n",
    "        if char.islower():\n",
    "            count_2+=1\n",
    "    print('No. of Upper case characters : ',count_1)\n",
    "    print('No. of lower case characters : ',count_2)\n",
    "\n",
    "string='The quick Brow Fox'\n",
    "fun3(string)"
   ]
  },
  {
   "cell_type": "code",
   "execution_count": null,
   "id": "9a9803cc",
   "metadata": {},
   "outputs": [],
   "source": []
  }
 ],
 "metadata": {
  "kernelspec": {
   "display_name": "Python 3 (ipykernel)",
   "language": "python",
   "name": "python3"
  },
  "language_info": {
   "codemirror_mode": {
    "name": "ipython",
    "version": 3
   },
   "file_extension": ".py",
   "mimetype": "text/x-python",
   "name": "python",
   "nbconvert_exporter": "python",
   "pygments_lexer": "ipython3",
   "version": "3.9.6"
  }
 },
 "nbformat": 4,
 "nbformat_minor": 5
}
